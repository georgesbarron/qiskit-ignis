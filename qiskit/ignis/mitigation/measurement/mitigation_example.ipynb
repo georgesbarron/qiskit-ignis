{
 "cells": [
  {
   "cell_type": "code",
   "execution_count": 1,
   "metadata": {},
   "outputs": [],
   "source": [
    "import numpy as np\n",
    "from qiskit import execute, QuantumCircuit\n",
    "from qiskit.test.mock import FakeParis\n",
    "from qiskit.providers.aer import QasmSimulator, noise\n",
    "\n",
    "from qiskit.ignis.verification.tomography import marginal_counts, expectation_counts\n",
    "from qiskit.ignis.mitigation.measurement import (\n",
    "    MeasMitigatorGenerator,\n",
    "    CompleteMeasMitigator,\n",
    "    TensoredMeasMitigator,\n",
    "    CTMPMeasMitigator,\n",
    "    fit_complete_meas_mitigator,\n",
    "    fit_tensored_meas_mitigator,\n",
    "    fit_ctmp_meas_mitigator,\n",
    "    counts_expectation_value)"
   ]
  },
  {
   "cell_type": "markdown",
   "metadata": {},
   "source": [
    "## Sim noise model"
   ]
  },
  {
   "cell_type": "code",
   "execution_count": 2,
   "metadata": {},
   "outputs": [],
   "source": [
    "sim = QasmSimulator()\n",
    "\n",
    "# Example max qubit number\n",
    "num_qubits = 4\n",
    "\n",
    "# Create readout errors\n",
    "readout_errors = []\n",
    "for i in range(num_qubits):\n",
    "    p_error1 = (i + 1) * 0.02\n",
    "    p_error0 = 2 * p_error1\n",
    "    ro_error = noise.ReadoutError([[1 - p_error0, p_error0], [p_error1, 1 - p_error1]])\n",
    "    readout_errors.append(ro_error)\n",
    "\n",
    "# Readout Error only\n",
    "nm = noise.NoiseModel()\n",
    "for i in range(num_qubits):\n",
    "    nm.add_readout_error(readout_errors[i], [i])\n",
    "seed_simulator = 100"
   ]
  },
  {
   "cell_type": "markdown",
   "metadata": {},
   "source": [
    "### Cal (Full)\n",
    "\n",
    "Ideal cal with only readout error"
   ]
  },
  {
   "cell_type": "code",
   "execution_count": 3,
   "metadata": {},
   "outputs": [],
   "source": [
    "circuits1, metadata1, _ = MeasMitigatorGenerator(num_qubits, method='complete').run()\n",
    "\n",
    "job_cal1 = execute(circuits1, sim,\n",
    "                   seed_simulator=seed_simulator,\n",
    "                   shots=10000,\n",
    "                   noise_model=nm,\n",
    "                   backend_options={'method': 'density_matrix'})\n",
    "result_cal1 = job_cal1.result()"
   ]
  },
  {
   "cell_type": "code",
   "execution_count": 4,
   "metadata": {},
   "outputs": [
    {
     "name": "stdout",
     "output_type": "stream",
     "text": [
      "Mitigation Overhead: 6\n",
      "Required Shots (delta = 0.05): 8911\n"
     ]
    }
   ],
   "source": [
    "complete_mitigator = fit_complete_meas_mitigator(result_cal1, metadata1)\n",
    "print('Mitigation Overhead:', complete_mitigator.mitigation_overhead())\n",
    "print('Required Shots (delta = 0.05):', complete_mitigator.required_shots(0.05))"
   ]
  },
  {
   "cell_type": "markdown",
   "metadata": {},
   "source": [
    "### Cal (Tensor)"
   ]
  },
  {
   "cell_type": "code",
   "execution_count": 5,
   "metadata": {},
   "outputs": [],
   "source": [
    "circuits2, metadata2, _ = MeasMitigatorGenerator(num_qubits, method='tensored').run()\n",
    "\n",
    "job_cal2 = execute(circuits2, sim,\n",
    "                   seed_simulator=seed_simulator,\n",
    "                   shots=10000,\n",
    "                   noise_model=nm,\n",
    "                   backend_options={'method': 'density_matrix'})\n",
    "result_cal2 = job_cal2.result()"
   ]
  },
  {
   "cell_type": "code",
   "execution_count": 6,
   "metadata": {},
   "outputs": [
    {
     "name": "stdout",
     "output_type": "stream",
     "text": [
      "Mitigation Overhead: 6\n",
      "Required Shots (delta = 0.05): 8962\n"
     ]
    }
   ],
   "source": [
    "tensored_mitigator = fit_tensored_meas_mitigator(result_cal2, metadata2)\n",
    "print('Mitigation Overhead:', tensored_mitigator.mitigation_overhead())\n",
    "print('Required Shots (delta = 0.05):', tensored_mitigator.required_shots(0.05))"
   ]
  },
  {
   "cell_type": "markdown",
   "metadata": {},
   "source": [
    "### Cal (CTMP)"
   ]
  },
  {
   "cell_type": "code",
   "execution_count": 7,
   "metadata": {},
   "outputs": [],
   "source": [
    "circuits3, metadata3, _ = MeasMitigatorGenerator(num_qubits, method='CTMP').run()\n",
    "\n",
    "job_cal3 = execute(circuits3, sim,\n",
    "                   seed_simulator=seed_simulator,\n",
    "                   shots=10000,\n",
    "                   noise_model=nm,\n",
    "                   backend_options={'method': 'density_matrix'})\n",
    "result_cal3 = job_cal3.result()"
   ]
  },
  {
   "cell_type": "code",
   "execution_count": 8,
   "metadata": {},
   "outputs": [
    {
     "name": "stdout",
     "output_type": "stream",
     "text": [
      "Mitigation Overhead: 7\n",
      "Required Shots (delta = 0.05): 9766\n"
     ]
    }
   ],
   "source": [
    "ctmp_mitigator = fit_ctmp_meas_mitigator(result_cal3, metadata3)\n",
    "print('Mitigation Overhead:', ctmp_mitigator.mitigation_overhead())\n",
    "print('Required Shots (delta = 0.05):', ctmp_mitigator.required_shots(0.05))"
   ]
  },
  {
   "cell_type": "markdown",
   "metadata": {},
   "source": [
    "### Expval (all-qubits)"
   ]
  },
  {
   "cell_type": "code",
   "execution_count": 9,
   "metadata": {},
   "outputs": [
    {
     "name": "stdout",
     "output_type": "stream",
     "text": [
      "\n",
      "Expectation Values\n",
      "- Target: 1.000000\n",
      "- Unmitigated: 0.508000\n",
      "- Mitigated (Complete): 0.983112\n",
      "- Mitigated (Tensored): 0.988800\n",
      "- Mitigated (CTMP): 1.011281\n"
     ]
    }
   ],
   "source": [
    "# Test Circuit Measure <XXXX> stabilizer\n",
    "qc = QuantumCircuit(4, 4)\n",
    "qc.h(0)\n",
    "qc.cx(0, 1)\n",
    "qc.cx(1, 2)\n",
    "qc.cx(2, 3)\n",
    "qc.h(range(4))\n",
    "qc.measure(range(4), range(4))\n",
    "\n",
    "# Simulation\n",
    "shots = 10000\n",
    "result_target = execute(qc, sim, shots=shots).result()\n",
    "result_noise = execute(qc, sim, shots=shots, noise_model=nm).result()\n",
    "counts_target = result_target.get_counts(0)\n",
    "counts_noise = result_noise.get_counts(0)\n",
    "\n",
    "# Expvals\n",
    "expvals = [\n",
    "    ('Target', counts_expectation_value(counts_target)),\n",
    "    ('Unmitigated', counts_expectation_value(counts_noise)),\n",
    "    ('Mitigated (Complete)', complete_mitigator.expectation_value(counts_noise)),\n",
    "    ('Mitigated (Tensored)', tensored_mitigator.expectation_value(counts_noise)),\n",
    "    ('Mitigated (CTMP)', ctmp_mitigator.expectation_value(counts_noise)),\n",
    "]\n",
    "print('\\nExpectation Values')\n",
    "for label, expval in expvals:\n",
    "    print('- {}: {:f}'.format(label, expval))"
   ]
  },
  {
   "cell_type": "markdown",
   "metadata": {},
   "source": [
    "### Expval (all-qubits, permuted)\n",
    "\n",
    "NOTE: This is not yet implemented for CTMP method"
   ]
  },
  {
   "cell_type": "code",
   "execution_count": 10,
   "metadata": {},
   "outputs": [
    {
     "name": "stdout",
     "output_type": "stream",
     "text": [
      "\n",
      "Expectation Values (clbits: [0, 1, 2, 3])\n",
      "- Target: 1.000000\n",
      "- Unmitigated: 0.528400\n",
      "- Mitigated (Complete): 1.023113\n",
      "- Mitigated (Tensored): 1.029068\n",
      "- Mitigated (CTMP): 1.033080\n",
      "\n",
      "Expectation Values (clbits: [0, 1, 3, 2])\n",
      "- Target: 1.000000\n",
      "- Unmitigated: 0.519600\n",
      "- Mitigated (Complete): 1.005603\n",
      "- Mitigated (Tensored): 1.011569\n",
      "- Mitigated (CTMP): 1.032680\n",
      "\n",
      "Expectation Values (clbits: [1, 3, 0, 2])\n",
      "- Target: 1.000000\n",
      "- Unmitigated: 0.524600\n",
      "- Mitigated (Complete): 1.016037\n",
      "- Mitigated (Tensored): 1.022079\n",
      "- Mitigated (CTMP): 1.047280\n",
      "\n",
      "Expectation Values (clbits: [3, 0, 1, 2])\n",
      "- Target: 1.000000\n",
      "- Unmitigated: 0.522000\n",
      "- Mitigated (Complete): 1.012298\n",
      "- Mitigated (Tensored): 1.018193\n",
      "- Mitigated (CTMP): 1.015880\n",
      "\n",
      "Expectation Values (clbits: [2, 0, 3, 1])\n",
      "- Target: 1.000000\n",
      "- Unmitigated: 0.516000\n",
      "- Mitigated (Complete): 1.001812\n",
      "- Mitigated (Tensored): 1.007599\n",
      "- Mitigated (CTMP): 1.031280\n",
      "\n",
      "Expectation Values (clbits: [3, 2, 1, 0])\n",
      "- Target: 1.000000\n",
      "- Unmitigated: 0.518400\n",
      "- Mitigated (Complete): 1.005968\n",
      "- Mitigated (Tensored): 1.011854\n",
      "- Mitigated (CTMP): 1.030480\n"
     ]
    }
   ],
   "source": [
    "for meas_qubits in [[0, 1, 2, 3], [0, 1, 3, 2], [1, 3, 0, 2], [3, 0, 1, 2], [2, 0, 3, 1], [3, 2, 1, 0]]:\n",
    "\n",
    "    # Test Circuit Measure <XXXX> stabilizer\n",
    "    qc = QuantumCircuit(4, 4)\n",
    "    qc.h(0)\n",
    "    qc.cx(0, 1)\n",
    "    qc.cx(1, 2)\n",
    "    qc.cx(2, 3)\n",
    "    qc.h(range(4))\n",
    "    qc.measure(meas_qubits, range(4))\n",
    "\n",
    "    # Simulation\n",
    "    shots = 10000\n",
    "\n",
    "    result_target = execute(qc, sim, shots=shots, seed_simulator=seed_simulator).result()\n",
    "    result_noise = execute(qc, sim, shots=shots,seed_simulator=seed_simulator,\n",
    "                           noise_model=nm).result()\n",
    "    counts_target = result_target.get_counts(0)\n",
    "    counts_noise = result_noise.get_counts(0)\n",
    "\n",
    "    # Expvals\n",
    "    expvals = [\n",
    "        ('Target', counts_expectation_value(counts_target)),\n",
    "        ('Unmitigated', counts_expectation_value(counts_noise)),\n",
    "        ('Mitigated (Complete)', complete_mitigator.expectation_value(counts_noise, qubits=meas_qubits)),\n",
    "        ('Mitigated (Tensored)', tensored_mitigator.expectation_value(counts_noise, qubits=meas_qubits)),\n",
    "        ('Mitigated (CTMP)', ctmp_mitigator.expectation_value(counts_noise)),\n",
    "    ]\n",
    "    print('\\nExpectation Values (clbits: {})'.format(meas_qubits))\n",
    "    for label, expval in expvals:\n",
    "        print('- {}: {:f}'.format(label, expval))"
   ]
  },
  {
   "cell_type": "markdown",
   "metadata": {},
   "source": [
    "### Expval Partial Qubits\n",
    "\n",
    "NOTE: This is not yet implemented for CTMP method"
   ]
  },
  {
   "cell_type": "code",
   "execution_count": 11,
   "metadata": {},
   "outputs": [
    {
     "name": "stdout",
     "output_type": "stream",
     "text": [
      "\n",
      "Expectation Values (qubits: [0, 1])\n",
      "- Target: 1.000000\n",
      "- Unmitigated: 0.827000\n",
      "- Mitigated (Complete): 0.995536\n",
      "- Mitigated (Tensored): 0.995288\n",
      "- Mitigated (CTMP): 1.415723\n",
      "\n",
      "Expectation Values (qubits: [0, 2])\n",
      "- Target: 1.000000\n",
      "- Unmitigated: 0.765250\n",
      "- Mitigated (Complete): 0.992570\n",
      "- Mitigated (Tensored): 0.998213\n",
      "- Mitigated (CTMP): 1.281975\n",
      "\n",
      "Expectation Values (qubits: [0, 3])\n",
      "- Target: 1.000000\n",
      "- Unmitigated: 0.712000\n",
      "- Mitigated (Complete): 0.996379\n",
      "- Mitigated (Tensored): 0.999863\n",
      "- Mitigated (CTMP): 1.206727\n",
      "\n",
      "Expectation Values (qubits: [3, 1])\n",
      "- Target: 1.000000\n",
      "- Unmitigated: 0.668250\n",
      "- Mitigated (Complete): 0.993435\n",
      "- Mitigated (Tensored): 0.993098\n",
      "- Mitigated (CTMP): 1.133728\n",
      "\n",
      "Expectation Values (qubits: [2, 1])\n",
      "- Target: 1.000000\n",
      "- Unmitigated: 0.723000\n",
      "- Mitigated (Complete): 1.000481\n",
      "- Mitigated (Tensored): 0.998830\n",
      "- Mitigated (CTMP): 1.219227\n",
      "\n",
      "Expectation Values (qubits: [3, 2])\n",
      "- Target: 1.000000\n",
      "- Unmitigated: 0.617500\n",
      "- Mitigated (Complete): 0.991132\n",
      "- Mitigated (Tensored): 0.991920\n",
      "- Mitigated (CTMP): 1.049230\n",
      "\n",
      "Expectation Values (qubits: [2, 3])\n",
      "- Target: 1.000000\n",
      "- Unmitigated: 0.621500\n",
      "- Mitigated (Complete): 0.998093\n",
      "- Mitigated (Tensored): 0.998952\n",
      "- Mitigated (CTMP): 1.037980\n"
     ]
    }
   ],
   "source": [
    "for qubits in [[0, 1], [0, 2], [0, 3], [3, 1], [2, 1], [3, 2], [2, 3]]:\n",
    "    \n",
    "    # Test Circuit\n",
    "    qc = QuantumCircuit(4, 2)\n",
    "    qc.h(qubits[0])\n",
    "    qc.cx(qubits[0], qubits[1])\n",
    "    qc.measure(qubits, [0, 1])\n",
    "\n",
    "    # Simulation\n",
    "    shots = 8000\n",
    "    seed = 1101\n",
    "    result_target = execute(qc, sim, shots=shots, seed_simulator=seed_simulator).result()\n",
    "    result_noise = execute(qc, sim, shots=shots,seed_simulator=seed_simulator,\n",
    "                           noise_model=nm).result()\n",
    "    counts_target = result_target.get_counts(0)\n",
    "    counts_noise = result_noise.get_counts(0)\n",
    "\n",
    "    # Expvals\n",
    "    expvals = [\n",
    "        ('Target', counts_expectation_value(counts_target)),\n",
    "        ('Unmitigated', counts_expectation_value(counts_noise)),\n",
    "        ('Mitigated (Complete)', complete_mitigator.expectation_value(counts_noise, qubits=qubits)),\n",
    "        ('Mitigated (Tensored)', tensored_mitigator.expectation_value(counts_noise, qubits=qubits)),\n",
    "        ('Mitigated (CTMP)', ctmp_mitigator.expectation_value(counts_noise)),\n",
    "    ]\n",
    "    print('\\nExpectation Values (qubits: {})'.format(qubits))\n",
    "    for label, expval in expvals:\n",
    "        print('- {}: {:f}'.format(label, expval))"
   ]
  },
  {
   "cell_type": "code",
   "execution_count": null,
   "metadata": {},
   "outputs": [],
   "source": []
  }
 ],
 "metadata": {
  "kernelspec": {
   "display_name": "Python (qiskit-dev)",
   "language": "python",
   "name": "qiskit-dev"
  },
  "language_info": {
   "codemirror_mode": {
    "name": "ipython",
    "version": 3
   },
   "file_extension": ".py",
   "mimetype": "text/x-python",
   "name": "python",
   "nbconvert_exporter": "python",
   "pygments_lexer": "ipython3",
   "version": "3.7.3"
  }
 },
 "nbformat": 4,
 "nbformat_minor": 4
}
