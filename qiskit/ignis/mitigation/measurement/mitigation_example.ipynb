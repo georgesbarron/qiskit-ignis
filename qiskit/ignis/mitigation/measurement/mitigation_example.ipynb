{
 "cells": [
  {
   "cell_type": "code",
   "execution_count": 1,
   "metadata": {},
   "outputs": [],
   "source": [
    "import numpy as np\n",
    "from qiskit import execute, QuantumCircuit\n",
    "from qiskit.test.mock import FakeParis\n",
    "from qiskit.providers.aer import QasmSimulator, noise\n",
    "\n",
    "from qiskit.ignis.verification.tomography import marginal_counts, expectation_counts\n",
    "from qiskit.ignis.mitigation.measurement import (\n",
    "    FullMeasureErrorMitigationGenerator,\n",
    "    FullMeasureErrorMitigator,\n",
    "    fit_full_measure_error_mitigator,\n",
    "    TensorMeasureErrorMitigationGenerator,\n",
    "    TensorMeasureErrorMitigator,\n",
    "    fit_tensor_measure_error_mitigator,\n",
    "    counts_expectation_value)"
   ]
  },
  {
   "cell_type": "markdown",
   "metadata": {},
   "source": [
    "## Sim noise model"
   ]
  },
  {
   "cell_type": "code",
   "execution_count": 2,
   "metadata": {},
   "outputs": [
    {
     "name": "stderr",
     "output_type": "stream",
     "text": [
      "Device reported a gate error parameter greater than maximum allowed value (1.000000 > 0.800000). Truncating to maximum value.\n",
      "Device model returned a depolarizing error parameter greater than maximum allowed value (1.068139 > 1.066667). Truncating to maximum value.\n",
      "Device reported a gate error parameter greater than maximum allowed value (1.000000 > 0.800000). Truncating to maximum value.\n",
      "Device model returned a depolarizing error parameter greater than maximum allowed value (1.068276 > 1.066667). Truncating to maximum value.\n",
      "Device reported a gate error parameter greater than maximum allowed value (1.000000 > 0.800000). Truncating to maximum value.\n",
      "Device model returned a depolarizing error parameter greater than maximum allowed value (1.068139 > 1.066667). Truncating to maximum value.\n",
      "Device reported a gate error parameter greater than maximum allowed value (1.000000 > 0.800000). Truncating to maximum value.\n",
      "Device model returned a depolarizing error parameter greater than maximum allowed value (1.068276 > 1.066667). Truncating to maximum value.\n"
     ]
    }
   ],
   "source": [
    "backend = FakeParis()\n",
    "coupling_map = backend.configuration().coupling_map\n",
    "sim = QasmSimulator()\n",
    "\n",
    "# Example max qubit number\n",
    "num_qubits = 4\n",
    "\n",
    "# Gate Error\n",
    "nm_noro = noise.NoiseModel.from_backend(backend, readout_error=False)\n",
    "\n",
    "# Gate and Readout Error\n",
    "nm = noise.NoiseModel.from_backend(backend, readout_error=False)\n",
    "for i in range(num_qubits):\n",
    "    p_error1 = (i + 1) * 0.01\n",
    "    p_error0 = 2 * p_error1\n",
    "    nm.add_readout_error([[1 - p_error0, p_error0], [p_error1, 1 - p_error1]], [i])\n",
    "\n",
    "# Readout Error only\n",
    "nm_ro = noise.NoiseModel()\n",
    "for i in range(num_qubits):\n",
    "    p_error1 = i * 0.01\n",
    "    p_error0 = 2 * p_error1\n",
    "    nm_ro.add_readout_error([[1 - p_error0, p_error0], [p_error1, 1 - p_error1]], [i])\n",
    "\n",
    "seed_simulator = 1101"
   ]
  },
  {
   "cell_type": "markdown",
   "metadata": {},
   "source": [
    "### Cal (Full)\n",
    "\n",
    "Ideal cal with only readout error"
   ]
  },
  {
   "cell_type": "code",
   "execution_count": 3,
   "metadata": {},
   "outputs": [],
   "source": [
    "circuits1, metadata1, _ = FullMeasureErrorMitigationGenerator(num_qubits).run()\n",
    "\n",
    "job_cal1 = execute(circuits1, sim,\n",
    "                   seed_simulator=seed_simulator,\n",
    "                   shots=100000,\n",
    "                   basis_gates=nm_ro.basis_gates,\n",
    "                   noise_model=nm_ro,\n",
    "                   backend_options={'method': 'density_matrix'})\n",
    "result_cal1 = job_cal1.result()"
   ]
  },
  {
   "cell_type": "code",
   "execution_count": 4,
   "metadata": {},
   "outputs": [],
   "source": [
    "full_mitigator = fit_full_measure_error_mitigator(result_cal1, metadata1)"
   ]
  },
  {
   "cell_type": "markdown",
   "metadata": {},
   "source": [
    "### Cal (Tensor)"
   ]
  },
  {
   "cell_type": "code",
   "execution_count": 5,
   "metadata": {},
   "outputs": [],
   "source": [
    "circuits2, metadata2, _ = TensorMeasureErrorMitigationGenerator(num_qubits).run()\n",
    "\n",
    "job_cal2 = execute(circuits2, sim,\n",
    "                   seed_simulator=seed_simulator,\n",
    "                   shots=100000,\n",
    "                   basis_gates=nm_ro.basis_gates,\n",
    "                   noise_model=nm_ro,\n",
    "                   backend_options={'method': 'density_matrix'})\n",
    "result_cal2 = job_cal2.result()"
   ]
  },
  {
   "cell_type": "code",
   "execution_count": 6,
   "metadata": {},
   "outputs": [],
   "source": [
    "tensor_mitigator = fit_tensor_measure_error_mitigator(result_cal2, metadata2)"
   ]
  },
  {
   "cell_type": "markdown",
   "metadata": {},
   "source": [
    "### Expval (all-qubits)"
   ]
  },
  {
   "cell_type": "code",
   "execution_count": 7,
   "metadata": {},
   "outputs": [
    {
     "name": "stdout",
     "output_type": "stream",
     "text": [
      "Target expval: -0.0256\n",
      "Fitted Expvals: [-0.1532     -0.07081566 -0.07182556]\n",
      "Differences: [0.1276  0.04522 0.04623]\n"
     ]
    }
   ],
   "source": [
    "# Test Circuit\n",
    "qc = QuantumCircuit(4, 4)\n",
    "qc.z(0)\n",
    "qc.x(1)\n",
    "qc.h(2)\n",
    "qc.cx(2, 3)\n",
    "qc.measure([0, 1, 2, 3], [0, 1, 2, 3])\n",
    "\n",
    "# Simulation\n",
    "shots = 5000\n",
    "seed = 1101\n",
    "result_target = execute(qc, sim, shots=shots, seed_simulator=seed,\n",
    "                        coupling_map=coupling_map,\n",
    "                        basis_gates=nm_noro.basis_gates,\n",
    "                        noise_model=nm_noro).result()\n",
    "result_noise = execute(qc, sim, shots=shots, seed_simulator=seed,\n",
    "                       coupling_map=coupling_map,\n",
    "                       basis_gates=nm_noro.basis_gates,\n",
    "                       noise_model=nm).result()\n",
    "counts_target = result_target.get_counts(0)\n",
    "counts_noise = result_noise.get_counts(0)\n",
    "\n",
    "# Expvals\n",
    "expval_target = counts_expectation_value(counts_target)\n",
    "expval_nomit = counts_expectation_value(counts_noise)\n",
    "expval_ainv_full = full_mitigator.expectation_value(counts_noise)\n",
    "expval_ainv_tp = tensor_mitigator.expectation_value(counts_noise)\n",
    "\n",
    "expval_fits = np.array([expval_nomit, expval_ainv_tp, expval_ainv_full])\n",
    "print('Target expval:', expval_target)\n",
    "print('Fitted Expvals:', expval_fits)\n",
    "print('Differences:', np.abs(expval_fits - expval_target).round(5))"
   ]
  },
  {
   "cell_type": "markdown",
   "metadata": {},
   "source": [
    "### Expval (all-qubits, permuted)"
   ]
  },
  {
   "cell_type": "code",
   "execution_count": 8,
   "metadata": {},
   "outputs": [
    {
     "name": "stdout",
     "output_type": "stream",
     "text": [
      "\n",
      "clbit_map: [0, 1, 2, 3]\n",
      "Target expval: -0.0288\n",
      "Tensor-mit Expval: -0.06788708465230699\n",
      "Full-mit Expvals: -0.06891448479259937\n",
      "Nomit Expval: -0.1514\n",
      "\n",
      "clbit_map: [0, 1, 3, 2]\n",
      "Target expval: -0.0288\n",
      "Tensor-mit Expval: -0.06781692455348971\n",
      "Full-mit Expvals: -0.06884773726299474\n",
      "Nomit Expval: -0.1514\n",
      "\n",
      "clbit_map: [1, 3, 0, 2]\n",
      "Target expval: -0.0288\n",
      "Tensor-mit Expval: -0.07507108366124665\n",
      "Full-mit Expvals: -0.07607917940984894\n",
      "Nomit Expval: -0.1576\n",
      "\n",
      "clbit_map: [3, 0, 1, 2]\n",
      "Target expval: -0.0288\n",
      "Tensor-mit Expval: -0.06632128154236064\n",
      "Full-mit Expvals: -0.06736408115933692\n",
      "Nomit Expval: -0.1502\n",
      "\n",
      "clbit_map: [2, 0, 3, 1]\n",
      "Target expval: -0.0288\n",
      "Tensor-mit Expval: -0.0632075723453543\n",
      "Full-mit Expvals: -0.06423500477344485\n",
      "Nomit Expval: -0.1474\n",
      "\n",
      "clbit_map: [3, 2, 1, 0]\n",
      "Target expval: -0.0288\n",
      "Tensor-mit Expval: -0.06411899952234218\n",
      "Full-mit Expvals: -0.06514867034815008\n",
      "Nomit Expval: -0.1476\n"
     ]
    }
   ],
   "source": [
    "for meas_qubits in [[0, 1, 2, 3], [0, 1, 3, 2], [1, 3, 0, 2], [3, 0, 1, 2], [2, 0, 3, 1], [3, 2, 1, 0]]:\n",
    "\n",
    "    # Test Circuit\n",
    "    qc = QuantumCircuit(4, 4)\n",
    "    qc.z(0)\n",
    "    qc.x(1)\n",
    "    qc.h(2)\n",
    "    qc.cx(2, 3)\n",
    "    qc.measure(meas_qubits, range(4))\n",
    "\n",
    "    # Simulation\n",
    "    shots = 10000\n",
    "\n",
    "    result_target = execute(qc, sim, shots=shots,\n",
    "                            coupling_map=coupling_map,\n",
    "                            noise_model=nm_noro,\n",
    "                            seed_simulator=seed_simulator).result()\n",
    "    result_noise = execute(qc, sim, shots=shots,\n",
    "                           coupling_map=coupling_map,\n",
    "                           noise_model=nm,\n",
    "                           seed_simulator=seed_simulator).result()\n",
    "    counts_target = result_target.get_counts(0)\n",
    "    counts_noise = result_noise.get_counts(0)\n",
    "\n",
    "    # Expvals\n",
    "    expval_target = counts_expectation_value(counts_target)\n",
    "    expval_nomit = counts_expectation_value(counts_noise)\n",
    "\n",
    "    expval_ainv_tp = tensor_mitigator.expectation_value(counts_noise, qubits=meas_qubits)\n",
    "    expval_ainv_full = full_mitigator.expectation_value(counts_noise, qubits=meas_qubits)\n",
    "\n",
    "    print('\\nclbit_map:', meas_qubits)\n",
    "    print('Target expval:', expval_target)\n",
    "    print('Tensor-mit Expval:', expval_ainv_tp)\n",
    "    print('Full-mit Expvals:', expval_ainv_full)\n",
    "    print('Nomit Expval:', expval_nomit)"
   ]
  },
  {
   "cell_type": "markdown",
   "metadata": {},
   "source": [
    "### Expval Partial Qubits"
   ]
  },
  {
   "cell_type": "code",
   "execution_count": 9,
   "metadata": {},
   "outputs": [
    {
     "name": "stdout",
     "output_type": "stream",
     "text": [
      "Target expval: 0.9848\n",
      "Fitted Expvals: [0.8964     0.93359663 0.93532807]\n",
      "Differences: [0.0884  0.0512  0.04947]\n",
      "Target expval: 0.9884\n",
      "Fitted Expvals: [0.9012     0.97947988 0.97754543]\n",
      "Differences: [0.0872  0.00892 0.01085]\n",
      "Target expval: 0.98\n",
      "Fitted Expvals: [0.8792     0.99922988 0.99797029]\n",
      "Differences: [0.1008  0.01923 0.01797]\n",
      "Target expval: 0.9096\n",
      "Fitted Expvals: [0.8288     0.8609745  0.86016676]\n",
      "Differences: [0.0808  0.04863 0.04943]\n",
      "Target expval: 0.9604\n",
      "Fitted Expvals: [0.8756     0.90987195 0.90852366]\n",
      "Differences: [0.0848  0.05053 0.05188]\n",
      "Target expval: 0.9424\n",
      "Fitted Expvals: [0.8316     0.89885567 0.89811251]\n",
      "Differences: [0.1108  0.04354 0.04429]\n",
      "Target expval: 0.9424\n",
      "Fitted Expvals: [0.7908     0.89143185 0.88871621]\n",
      "Differences: [0.1516  0.05097 0.05368]\n"
     ]
    }
   ],
   "source": [
    "for qubits in [[0, 1], [0, 2], [0, 3], [3, 1], [2, 1], [3, 2], [2, 3]]:\n",
    "    \n",
    "    # Test Circuit\n",
    "    qc = QuantumCircuit(4, 2)\n",
    "    qc.h(qubits[0])\n",
    "    qc.u2(0.2, 0.1, qubits[0])\n",
    "    qc.cx(qubits[0], qubits[1])\n",
    "    qc.barrier(qubits)\n",
    "    qc.cx(qubits[0], qubits[1])\n",
    "    qc.measure(qubits, [0, 1])\n",
    "\n",
    "    # Simulation\n",
    "    shots = 5000\n",
    "    seed = 1101\n",
    "    result_target = execute(qc, sim, shots=5000,\n",
    "                            seed_simulator=seed,\n",
    "                            coupling_map=coupling_map,\n",
    "                            basis_gates=nm_noro.basis_gates,\n",
    "                            noise_model=nm_noro).result()\n",
    "    result_noise = execute(qc, sim, shots=shots,\n",
    "                           seed_simulator=seed,\n",
    "                           coupling_map=coupling_map,\n",
    "                           basis_gates=nm_noro.basis_gates,\n",
    "                           noise_model=nm).result()\n",
    "    counts_target = result_target.get_counts(0)\n",
    "    counts_noise = result_noise.get_counts(0)\n",
    "\n",
    "    # Expvals\n",
    "    expval_target = counts_expectation_value(counts_target)\n",
    "    expval_nomit = counts_expectation_value(counts_noise)\n",
    "    expval_ainv_tp = tensor_mitigator.expectation_value(counts_noise, qubits=qubits)\n",
    "    expval_ainv_full = full_mitigator.expectation_value(counts_noise, qubits=qubits)\n",
    "    expval_fits = np.array([expval_nomit, expval_ainv_tp, expval_ainv_full])\n",
    "\n",
    "    print('Target expval:', expval_target)\n",
    "    print('Fitted Expvals:', expval_fits)\n",
    "    print('Differences:', np.abs(expval_fits - expval_target).round(5))"
   ]
  },
  {
   "cell_type": "code",
   "execution_count": null,
   "metadata": {},
   "outputs": [],
   "source": []
  }
 ],
 "metadata": {
  "kernelspec": {
   "display_name": "Python (qiskit-dev)",
   "language": "python",
   "name": "qiskit-dev"
  },
  "language_info": {
   "codemirror_mode": {
    "name": "ipython",
    "version": 3
   },
   "file_extension": ".py",
   "mimetype": "text/x-python",
   "name": "python",
   "nbconvert_exporter": "python",
   "pygments_lexer": "ipython3",
   "version": "3.7.3"
  }
 },
 "nbformat": 4,
 "nbformat_minor": 4
}
